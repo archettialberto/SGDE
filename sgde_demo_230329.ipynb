{
 "cells": [
  {
   "cell_type": "code",
   "execution_count": null,
   "metadata": {},
   "outputs": [],
   "source": [
    "seed = 42\n",
    "\n",
    "import os\n",
    "os.environ['TF_CPP_MIN_LOG_LEVEL'] = '3'\n",
    "os.environ['PYTHONHASHSEED'] = str(seed)\n",
    "os.environ['MPLCONFIGDIR'] = os.getcwd()+'/configs/'\n",
    "\n",
    "import warnings\n",
    "warnings.simplefilter(action='ignore', category=FutureWarning)\n",
    "warnings.simplefilter(action='ignore', category=Warning)\n",
    "\n",
    "import numpy as np\n",
    "np.random.seed(seed)\n",
    "\n",
    "import logging\n",
    "import tensorflow as tf\n",
    "tf.autograph.set_verbosity(0)\n",
    "tf.get_logger().setLevel(logging.ERROR)\n",
    "tf.compat.v1.logging.set_verbosity(tf.compat.v1.logging.ERROR)\n",
    "tf.random.set_seed(seed)\n",
    "tf.compat.v1.set_random_seed(seed)\n",
    "\n",
    "import random\n",
    "random.seed(seed)\n",
    "\n",
    "from tensorflow.keras import backend as K\n",
    "import tf2onnx\n",
    "import onnxruntime as rt\n",
    "from matplotlib import pyplot as plt\n",
    "from sklearn.model_selection import train_test_split\n",
    "\n",
    "gpus = tf.config.experimental.list_physical_devices('GPU')\n",
    "for gpu in gpus:\n",
    "    tf.config.experimental.set_memory_growth(gpu, True)\n",
    "\n",
    "tfk = tf.keras\n",
    "tfkl = tf.keras.layers\n",
    "print(tf.version)"
   ]
  },
  {
   "cell_type": "code",
   "execution_count": null,
   "metadata": {},
   "outputs": [],
   "source": [
    "from sgde_client.auth import get_users, get_user\n",
    "\n",
    "get_users()"
   ]
  },
  {
   "cell_type": "code",
   "execution_count": null,
   "metadata": {
    "scrolled": true
   },
   "outputs": [],
   "source": [
    "from sgde_client.auth import login\n",
    "\n",
    "login()"
   ]
  },
  {
   "cell_type": "code",
   "execution_count": null,
   "metadata": {},
   "outputs": [],
   "source": [
    "from sgde_client.models.training import train_image_generator\n",
    "from sgde_client.models.inference import generate_samples_onnx\n",
    "\n",
    "(X_train, y_train), (X_test, y_test) = tfk.datasets.mnist.load_data()\n",
    "X = np.concatenate([X_train, X_test], axis=0)\n",
    "y = np.concatenate([y_train, y_test], axis=0)\n",
    "\n",
    "file_path, metadata = train_image_generator(\n",
    "    name=\"my_other_1ep_gan\",\n",
    "    description=\"\"\"\n",
    "    # An dummy GAN for MNIST\n",
    "    ...with a slick Markdown description.\n",
    "    \"\"\",\n",
    "    X=X,\n",
    "    y=y,\n",
    "    epochs=1,\n",
    "    classifier_epochs=1,\n",
    "    batch_size=64,\n",
    "    image_size=28,\n",
    "    model_size=\"small\",\n",
    "    task=\"classification\",\n",
    "    sub_task=\"Handwritten digit classification\",\n",
    "    data_description=\"A balanced grayscale image dataset containing 10 different classes\",\n",
    "    dataset_name=\"MNIST\",\n",
    "    verbose=True,\n",
    ")"
   ]
  },
  {
   "cell_type": "code",
   "execution_count": null,
   "metadata": {},
   "outputs": [],
   "source": [
    "file_path"
   ]
  },
  {
   "cell_type": "code",
   "execution_count": null,
   "metadata": {},
   "outputs": [],
   "source": [
    "metadata"
   ]
  },
  {
   "cell_type": "code",
   "execution_count": null,
   "metadata": {},
   "outputs": [],
   "source": [
    "from sgde_client.exchange import upload_generator\n",
    "\n",
    "upload_generator(file_path, metadata)"
   ]
  },
  {
   "cell_type": "code",
   "execution_count": null,
   "metadata": {},
   "outputs": [],
   "source": [
    "from sgde_client.exchange import get_generators\n",
    "\n",
    "get_generators()"
   ]
  },
  {
   "cell_type": "code",
   "execution_count": null,
   "metadata": {},
   "outputs": [],
   "source": [
    "from sgde_client.exchange import get_generator, download_generator\n",
    "\n",
    "downloaded_metadata = get_generator(\"mnist_small_gan\")\n",
    "downloaded_gan_path = download_generator(\"mnist_small_gan\")\n",
    "downloaded_metadata"
   ]
  },
  {
   "cell_type": "code",
   "execution_count": null,
   "metadata": {},
   "outputs": [],
   "source": [
    "from sgde_client.models.inference import generate_samples_onnx\n",
    "\n",
    "num_gen_samples = 10\n",
    "\n",
    "samples = generate_samples_onnx(\n",
    "    num_samples=num_gen_samples,\n",
    "    path=downloaded_gan_path,\n",
    "    input_shape=downloaded_metadata.generator_input_shape,\n",
    "    num_classes=downloaded_metadata.num_classes\n",
    ")"
   ]
  },
  {
   "cell_type": "code",
   "execution_count": null,
   "metadata": {},
   "outputs": [],
   "source": [
    "import matplotlib.pyplot as plt\n",
    "%matplotlib inline\n",
    "\n",
    "fig, axes = plt.subplots(1, num_gen_samples, figsize=(20, 3 * num_gen_samples))\n",
    "for i in range(num_gen_samples):\n",
    "    img = tfk.preprocessing.image.array_to_img(samples[i])\n",
    "    ax = axes[i % num_gen_samples]\n",
    "    ax.imshow(np.squeeze(img), cmap=\"gray\")\n",
    "    ax.set_xticks([]), ax.set_yticks([])\n",
    "plt.tight_layout()\n",
    "plt.show()"
   ]
  }
 ],
 "metadata": {
  "kernelspec": {
   "display_name": "Python 3 (ipykernel)",
   "language": "python",
   "name": "python3"
  },
  "language_info": {
   "codemirror_mode": {
    "name": "ipython",
    "version": 3
   },
   "file_extension": ".py",
   "mimetype": "text/x-python",
   "name": "python",
   "nbconvert_exporter": "python",
   "pygments_lexer": "ipython3",
   "version": "3.8.10"
  }
 },
 "nbformat": 4,
 "nbformat_minor": 1
}
