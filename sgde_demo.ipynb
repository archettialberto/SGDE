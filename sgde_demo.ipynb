{
 "cells": [
  {
   "cell_type": "code",
   "execution_count": 1,
   "metadata": {
    "pycharm": {
     "is_executing": true,
     "name": "#%%\n"
    }
   },
   "outputs": [
    {
     "name": "stdout",
     "output_type": "stream",
     "text": [
      "<module 'tensorflow._api.v2.version' from '/usr/local/lib/python3.8/dist-packages/tensorflow/_api/v2/version/__init__.py'>\n"
     ]
    }
   ],
   "source": [
    "seed = 42\n",
    "\n",
    "import os\n",
    "os.environ['TF_CPP_MIN_LOG_LEVEL'] = '3'\n",
    "os.environ['PYTHONHASHSEED'] = str(seed)\n",
    "os.environ['MPLCONFIGDIR'] = os.getcwd()+'/configs/'\n",
    "\n",
    "import warnings\n",
    "warnings.simplefilter(action='ignore', category=FutureWarning)\n",
    "warnings.simplefilter(action='ignore', category=Warning)\n",
    "\n",
    "import numpy as np\n",
    "np.random.seed(seed)\n",
    "\n",
    "import logging\n",
    "import tensorflow as tf\n",
    "tf.autograph.set_verbosity(0)\n",
    "tf.get_logger().setLevel(logging.ERROR)\n",
    "tf.compat.v1.logging.set_verbosity(tf.compat.v1.logging.ERROR)\n",
    "tf.random.set_seed(seed)\n",
    "tf.compat.v1.set_random_seed(seed)\n",
    "\n",
    "import random\n",
    "random.seed(seed)\n",
    "\n",
    "from tensorflow.keras import backend as K\n",
    "import tf2onnx\n",
    "import onnxruntime as rt\n",
    "from matplotlib import pyplot as plt\n",
    "from sklearn.model_selection import train_test_split\n",
    "\n",
    "gpus = tf.config.experimental.list_physical_devices('GPU')\n",
    "for gpu in gpus:\n",
    "    tf.config.experimental.set_memory_growth(gpu, True)\n",
    "\n",
    "tfk = tf.keras\n",
    "tfkl = tf.keras.layers\n",
    "print(tf.version)"
   ]
  },
  {
   "cell_type": "code",
   "execution_count": 3,
   "metadata": {
    "pycharm": {
     "name": "#%%\n"
    }
   },
   "outputs": [
    {
     "name": "stdout",
     "output_type": "stream",
     "text": [
      "Insert username: francesco\n",
      "Insert email: francesco@example.com\n",
      "Insert password: ········\n",
      "Confirm password: ········\n"
     ]
    },
    {
     "name": "stderr",
     "output_type": "stream",
     "text": [
      "[2023-04-06 13:40:01,668][INFO] Registered as francesco (francesco@example.com)\n"
     ]
    },
    {
     "data": {
      "text/plain": [
       "User(username='francesco', email='francesco@example.com')"
      ]
     },
     "execution_count": 3,
     "metadata": {},
     "output_type": "execute_result"
    }
   ],
   "source": [
    "from sgde_client.auth import register\n",
    "\n",
    "register()"
   ]
  },
  {
   "cell_type": "code",
   "execution_count": 4,
   "metadata": {
    "pycharm": {
     "name": "#%%\n"
    }
   },
   "outputs": [
    {
     "name": "stdout",
     "output_type": "stream",
     "text": [
      "Insert username: alberto\n",
      "Insert password: ········\n"
     ]
    },
    {
     "name": "stderr",
     "output_type": "stream",
     "text": [
      "[2023-04-06 13:40:19,900][INFO] Successfully logged in\n"
     ]
    }
   ],
   "source": [
    "from sgde_client.auth import login\n",
    "\n",
    "login()"
   ]
  },
  {
   "cell_type": "code",
   "execution_count": 5,
   "metadata": {
    "pycharm": {
     "name": "#%%\n"
    }
   },
   "outputs": [
    {
     "name": "stderr",
     "output_type": "stream",
     "text": [
      "[2023-04-06 13:40:22,654][INFO] Logged in as alberto (alberto@example.com)\n"
     ]
    },
    {
     "data": {
      "text/plain": [
       "User(username='alberto', email='alberto@example.com')"
      ]
     },
     "execution_count": 5,
     "metadata": {},
     "output_type": "execute_result"
    }
   ],
   "source": [
    "from sgde_client.auth import whoami\n",
    "\n",
    "whoami()"
   ]
  },
  {
   "cell_type": "code",
   "execution_count": 6,
   "metadata": {
    "pycharm": {
     "name": "#%%\n"
    }
   },
   "outputs": [
    {
     "data": {
      "text/html": [
       "<div>\n",
       "<style scoped>\n",
       "    .dataframe tbody tr th:only-of-type {\n",
       "        vertical-align: middle;\n",
       "    }\n",
       "\n",
       "    .dataframe tbody tr th {\n",
       "        vertical-align: top;\n",
       "    }\n",
       "\n",
       "    .dataframe thead th {\n",
       "        text-align: right;\n",
       "    }\n",
       "</style>\n",
       "<table border=\"1\" class=\"dataframe\">\n",
       "  <thead>\n",
       "    <tr style=\"text-align: right;\">\n",
       "      <th></th>\n",
       "      <th>username</th>\n",
       "      <th>email</th>\n",
       "    </tr>\n",
       "  </thead>\n",
       "  <tbody>\n",
       "    <tr>\n",
       "      <th>0</th>\n",
       "      <td>alberto</td>\n",
       "      <td>alberto@example.com</td>\n",
       "    </tr>\n",
       "    <tr>\n",
       "      <th>1</th>\n",
       "      <td>eugenio</td>\n",
       "      <td>eugenio@example.com</td>\n",
       "    </tr>\n",
       "    <tr>\n",
       "      <th>2</th>\n",
       "      <td>francesco</td>\n",
       "      <td>francesco@example.com</td>\n",
       "    </tr>\n",
       "  </tbody>\n",
       "</table>\n",
       "</div>"
      ],
      "text/plain": [
       "    username                  email\n",
       "0    alberto    alberto@example.com\n",
       "1    eugenio    eugenio@example.com\n",
       "2  francesco  francesco@example.com"
      ]
     },
     "execution_count": 6,
     "metadata": {},
     "output_type": "execute_result"
    }
   ],
   "source": [
    "from sgde_client.auth import get_users\n",
    "\n",
    "get_users()"
   ]
  },
  {
   "cell_type": "code",
   "execution_count": 7,
   "metadata": {
    "pycharm": {
     "name": "#%%\n"
    }
   },
   "outputs": [
    {
     "data": {
      "text/plain": [
       "User(username='alberto', email='alberto@example.com')"
      ]
     },
     "execution_count": 7,
     "metadata": {},
     "output_type": "execute_result"
    }
   ],
   "source": [
    "from sgde_client.auth import get_user\n",
    "\n",
    "get_user(\"alberto\")"
   ]
  },
  {
   "cell_type": "code",
   "execution_count": 8,
   "metadata": {},
   "outputs": [
    {
     "data": {
      "text/html": [
       "<div>\n",
       "<style scoped>\n",
       "    .dataframe tbody tr th:only-of-type {\n",
       "        vertical-align: middle;\n",
       "    }\n",
       "\n",
       "    .dataframe tbody tr th {\n",
       "        vertical-align: top;\n",
       "    }\n",
       "\n",
       "    .dataframe thead th {\n",
       "        text-align: right;\n",
       "    }\n",
       "</style>\n",
       "<table border=\"1\" class=\"dataframe\">\n",
       "  <thead>\n",
       "    <tr style=\"text-align: right;\">\n",
       "      <th></th>\n",
       "      <th>name</th>\n",
       "      <th>description</th>\n",
       "      <th>dataset_name</th>\n",
       "      <th>dataset_description</th>\n",
       "      <th>format</th>\n",
       "      <th>image_size</th>\n",
       "      <th>conditioned</th>\n",
       "      <th>task</th>\n",
       "      <th>num_classes</th>\n",
       "      <th>model_size</th>\n",
       "      <th>...</th>\n",
       "      <th>generator_batch_size</th>\n",
       "      <th>classifier_epochs</th>\n",
       "      <th>classifier_batch_size</th>\n",
       "      <th>discriminator_rounds</th>\n",
       "      <th>generator_input_shape</th>\n",
       "      <th>classifier_gen_best_accuracy</th>\n",
       "      <th>classifier_real_best_accuracy</th>\n",
       "      <th>ssim</th>\n",
       "      <th>avg_ssim</th>\n",
       "      <th>owner</th>\n",
       "    </tr>\n",
       "  </thead>\n",
       "  <tbody>\n",
       "    <tr>\n",
       "      <th>0</th>\n",
       "      <td>mnist_small_gan</td>\n",
       "      <td># A Small GAN for MNIST\\n    ...with a slick M...</td>\n",
       "      <td>MNIST</td>\n",
       "      <td>A balanced grayscale image dataset containing ...</td>\n",
       "      <td>image</td>\n",
       "      <td>28</td>\n",
       "      <td>True</td>\n",
       "      <td>classification</td>\n",
       "      <td>10</td>\n",
       "      <td>small</td>\n",
       "      <td>...</td>\n",
       "      <td>64</td>\n",
       "      <td>100</td>\n",
       "      <td>64</td>\n",
       "      <td>3</td>\n",
       "      <td>74</td>\n",
       "      <td>0.807857</td>\n",
       "      <td>0.755571</td>\n",
       "      <td>0.997211</td>\n",
       "      <td>0.994779</td>\n",
       "      <td>alberto</td>\n",
       "    </tr>\n",
       "    <tr>\n",
       "      <th>1</th>\n",
       "      <td>fmnist_small_gan</td>\n",
       "      <td># A Small GAN for FashionMNIST\\n    ...with a ...</td>\n",
       "      <td>FashionMNIST</td>\n",
       "      <td>A balanced grayscale image dataset containing ...</td>\n",
       "      <td>image</td>\n",
       "      <td>28</td>\n",
       "      <td>True</td>\n",
       "      <td>classification</td>\n",
       "      <td>10</td>\n",
       "      <td>small</td>\n",
       "      <td>...</td>\n",
       "      <td>64</td>\n",
       "      <td>100</td>\n",
       "      <td>64</td>\n",
       "      <td>3</td>\n",
       "      <td>74</td>\n",
       "      <td>0.807429</td>\n",
       "      <td>0.865571</td>\n",
       "      <td>0.983859</td>\n",
       "      <td>0.872248</td>\n",
       "      <td>alberto</td>\n",
       "    </tr>\n",
       "    <tr>\n",
       "      <th>2</th>\n",
       "      <td>cifar10_small_gan</td>\n",
       "      <td># A Small GAN for CIFAR10\\n    ...with a slick...</td>\n",
       "      <td>CIFAR10</td>\n",
       "      <td>A balanced colored image dataset containing 10...</td>\n",
       "      <td>image</td>\n",
       "      <td>28</td>\n",
       "      <td>True</td>\n",
       "      <td>classification</td>\n",
       "      <td>10</td>\n",
       "      <td>small</td>\n",
       "      <td>...</td>\n",
       "      <td>64</td>\n",
       "      <td>100</td>\n",
       "      <td>64</td>\n",
       "      <td>3</td>\n",
       "      <td>74</td>\n",
       "      <td>0.463333</td>\n",
       "      <td>0.752667</td>\n",
       "      <td>0.902213</td>\n",
       "      <td>0.711955</td>\n",
       "      <td>alberto</td>\n",
       "    </tr>\n",
       "    <tr>\n",
       "      <th>3</th>\n",
       "      <td>cifar10_large_gan</td>\n",
       "      <td># A Large GAN for CIFAR10\\n    ...with a slick...</td>\n",
       "      <td>CIFAR10</td>\n",
       "      <td>A balanced colored image dataset containing 10...</td>\n",
       "      <td>image</td>\n",
       "      <td>32</td>\n",
       "      <td>True</td>\n",
       "      <td>classification</td>\n",
       "      <td>10</td>\n",
       "      <td>large</td>\n",
       "      <td>...</td>\n",
       "      <td>64</td>\n",
       "      <td>100</td>\n",
       "      <td>64</td>\n",
       "      <td>3</td>\n",
       "      <td>138</td>\n",
       "      <td>0.173000</td>\n",
       "      <td>0.772333</td>\n",
       "      <td>0.300774</td>\n",
       "      <td>0.227956</td>\n",
       "      <td>eugenio</td>\n",
       "    </tr>\n",
       "    <tr>\n",
       "      <th>4</th>\n",
       "      <td>fmnist_large_gan</td>\n",
       "      <td># A Large GAN for FashionMNIST\\n    ...with a ...</td>\n",
       "      <td>FashionMNIST</td>\n",
       "      <td>A balanced grayscale image dataset containing ...</td>\n",
       "      <td>image</td>\n",
       "      <td>32</td>\n",
       "      <td>True</td>\n",
       "      <td>classification</td>\n",
       "      <td>10</td>\n",
       "      <td>large</td>\n",
       "      <td>...</td>\n",
       "      <td>64</td>\n",
       "      <td>100</td>\n",
       "      <td>64</td>\n",
       "      <td>3</td>\n",
       "      <td>138</td>\n",
       "      <td>0.273857</td>\n",
       "      <td>0.873286</td>\n",
       "      <td>0.403051</td>\n",
       "      <td>0.190318</td>\n",
       "      <td>eugenio</td>\n",
       "    </tr>\n",
       "    <tr>\n",
       "      <th>5</th>\n",
       "      <td>mnist_large_gan</td>\n",
       "      <td># A Large GAN for MNIST\\n    ...with a slick M...</td>\n",
       "      <td>MNIST</td>\n",
       "      <td>A balanced grayscale image dataset containing ...</td>\n",
       "      <td>image</td>\n",
       "      <td>32</td>\n",
       "      <td>True</td>\n",
       "      <td>classification</td>\n",
       "      <td>10</td>\n",
       "      <td>large</td>\n",
       "      <td>...</td>\n",
       "      <td>64</td>\n",
       "      <td>100</td>\n",
       "      <td>64</td>\n",
       "      <td>3</td>\n",
       "      <td>138</td>\n",
       "      <td>0.234429</td>\n",
       "      <td>0.962000</td>\n",
       "      <td>0.356022</td>\n",
       "      <td>0.197496</td>\n",
       "      <td>eugenio</td>\n",
       "    </tr>\n",
       "    <tr>\n",
       "      <th>6</th>\n",
       "      <td>my_1epoch_gan</td>\n",
       "      <td>\\n    # An underperforming GAN for MNIST\\n    ...</td>\n",
       "      <td>MNIST</td>\n",
       "      <td>A balanced grayscale image dataset containing ...</td>\n",
       "      <td>image</td>\n",
       "      <td>28</td>\n",
       "      <td>True</td>\n",
       "      <td>classification</td>\n",
       "      <td>10</td>\n",
       "      <td>small</td>\n",
       "      <td>...</td>\n",
       "      <td>64</td>\n",
       "      <td>1</td>\n",
       "      <td>64</td>\n",
       "      <td>3</td>\n",
       "      <td>74</td>\n",
       "      <td>0.084429</td>\n",
       "      <td>0.715857</td>\n",
       "      <td>0.199260</td>\n",
       "      <td>0.167074</td>\n",
       "      <td>alberto</td>\n",
       "    </tr>\n",
       "  </tbody>\n",
       "</table>\n",
       "<p>7 rows × 21 columns</p>\n",
       "</div>"
      ],
      "text/plain": [
       "                name                                        description  \\\n",
       "0    mnist_small_gan  # A Small GAN for MNIST\\n    ...with a slick M...   \n",
       "1   fmnist_small_gan  # A Small GAN for FashionMNIST\\n    ...with a ...   \n",
       "2  cifar10_small_gan  # A Small GAN for CIFAR10\\n    ...with a slick...   \n",
       "3  cifar10_large_gan  # A Large GAN for CIFAR10\\n    ...with a slick...   \n",
       "4   fmnist_large_gan  # A Large GAN for FashionMNIST\\n    ...with a ...   \n",
       "5    mnist_large_gan  # A Large GAN for MNIST\\n    ...with a slick M...   \n",
       "6      my_1epoch_gan  \\n    # An underperforming GAN for MNIST\\n    ...   \n",
       "\n",
       "   dataset_name                                dataset_description format  \\\n",
       "0         MNIST  A balanced grayscale image dataset containing ...  image   \n",
       "1  FashionMNIST  A balanced grayscale image dataset containing ...  image   \n",
       "2       CIFAR10  A balanced colored image dataset containing 10...  image   \n",
       "3       CIFAR10  A balanced colored image dataset containing 10...  image   \n",
       "4  FashionMNIST  A balanced grayscale image dataset containing ...  image   \n",
       "5         MNIST  A balanced grayscale image dataset containing ...  image   \n",
       "6         MNIST  A balanced grayscale image dataset containing ...  image   \n",
       "\n",
       "   image_size  conditioned            task  num_classes model_size  ...  \\\n",
       "0          28         True  classification           10      small  ...   \n",
       "1          28         True  classification           10      small  ...   \n",
       "2          28         True  classification           10      small  ...   \n",
       "3          32         True  classification           10      large  ...   \n",
       "4          32         True  classification           10      large  ...   \n",
       "5          32         True  classification           10      large  ...   \n",
       "6          28         True  classification           10      small  ...   \n",
       "\n",
       "   generator_batch_size  classifier_epochs  classifier_batch_size  \\\n",
       "0                    64                100                     64   \n",
       "1                    64                100                     64   \n",
       "2                    64                100                     64   \n",
       "3                    64                100                     64   \n",
       "4                    64                100                     64   \n",
       "5                    64                100                     64   \n",
       "6                    64                  1                     64   \n",
       "\n",
       "   discriminator_rounds  generator_input_shape  classifier_gen_best_accuracy  \\\n",
       "0                     3                     74                      0.807857   \n",
       "1                     3                     74                      0.807429   \n",
       "2                     3                     74                      0.463333   \n",
       "3                     3                    138                      0.173000   \n",
       "4                     3                    138                      0.273857   \n",
       "5                     3                    138                      0.234429   \n",
       "6                     3                     74                      0.084429   \n",
       "\n",
       "   classifier_real_best_accuracy      ssim  avg_ssim    owner  \n",
       "0                       0.755571  0.997211  0.994779  alberto  \n",
       "1                       0.865571  0.983859  0.872248  alberto  \n",
       "2                       0.752667  0.902213  0.711955  alberto  \n",
       "3                       0.772333  0.300774  0.227956  eugenio  \n",
       "4                       0.873286  0.403051  0.190318  eugenio  \n",
       "5                       0.962000  0.356022  0.197496  eugenio  \n",
       "6                       0.715857  0.199260  0.167074  alberto  \n",
       "\n",
       "[7 rows x 21 columns]"
      ]
     },
     "execution_count": 8,
     "metadata": {},
     "output_type": "execute_result"
    }
   ],
   "source": [
    "from sgde_client.exchange import get_generators\n",
    "\n",
    "get_generators()"
   ]
  },
  {
   "cell_type": "code",
   "execution_count": 10,
   "metadata": {},
   "outputs": [
    {
     "name": "stderr",
     "output_type": "stream",
     "text": [
      "[2023-04-06 13:43:51,799][INFO] Generator downloaded at /src/mnist_small_gan_230406134351.onnx\n"
     ]
    }
   ],
   "source": [
    "from sgde_client.exchange import get_generator, download_generator\n",
    "\n",
    "metadata = get_generator(\"mnist_small_gan\")\n",
    "gen_path = download_generator(\"mnist_small_gan\")"
   ]
  },
  {
   "cell_type": "code",
   "execution_count": 13,
   "metadata": {},
   "outputs": [
    {
     "data": {
      "image/png": "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",
      "text/plain": [
       "<Figure size 2000x2000 with 10 Axes>"
      ]
     },
     "metadata": {},
     "output_type": "display_data"
    }
   ],
   "source": [
    "from sgde_client.models.inference import generate_samples_onnx\n",
    "\n",
    "_ = generate_samples_onnx(\n",
    "    num_samples=10,\n",
    "    path=gen_path, \n",
    "    input_shape=metadata.generator_input_shape, \n",
    "    num_classes=metadata.num_classes, \n",
    "    verbose=True,\n",
    ")"
   ]
  },
  {
   "cell_type": "code",
   "execution_count": 15,
   "metadata": {},
   "outputs": [
    {
     "name": "stdout",
     "output_type": "stream",
     "text": [
      "Downloading data from https://storage.googleapis.com/tensorflow/tf-keras-datasets/mnist.npz\n",
      "11490434/11490434 [==============================] - 0s 0us/step\n",
      "Metadata extraction started...\n",
      "Metadata extraction completed!\n",
      "Data processing started...\n",
      "\t Dataset reshaping started...\n",
      "\t Dataset reshaping completed!\n",
      "\t Dataset resizing started...\n",
      "\t Dataset resizing completed!\n",
      "\t Dataset normalization started...\n",
      "\t Dataset normalization completed!\n",
      "Data processing completed!\n",
      "Classifier training on real data started...\n",
      "985/985 - 50s - loss: 0.6971 - accuracy: 0.7606 - val_loss: 0.5591 - val_accuracy: 0.8417 - lr: 0.1000 - 50s/epoch - 51ms/step\n",
      "Classifier training on real data completed!\n",
      "Generator building started...\n",
      "Generator building completed!\n",
      "Generator training started...\n"
     ]
    },
    {
     "data": {
      "image/png": "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",
      "text/plain": [
       "<Figure size 2000x2000 with 10 Axes>"
      ]
     },
     "metadata": {},
     "output_type": "display_data"
    },
    {
     "name": "stdout",
     "output_type": "stream",
     "text": [
      "985/985 - 38s - loss: 1.8358 - d_loss: 1.4095 - g_loss: 0.4262 - 38s/epoch - 38ms/step\n",
      "Generator training completed!\n",
      "Generator saving started...\n",
      "Generator saving completed!\n",
      "Sampling started...\n",
      "Sampling completed!\n",
      "Similarity metrics computation started...\n",
      "Similarity metrics computation completed!\n",
      "Classifier training on generated data started...\n",
      "985/985 - 12s - loss: 1.7991 - accuracy: 0.3449 - val_loss: 4.9434 - val_accuracy: 0.1201 - lr: 0.1000 - 12s/epoch - 12ms/step\n",
      "Classifier training on generated data completed!\n"
     ]
    }
   ],
   "source": [
    "from sgde_client.models.training import train_image_generator\n",
    "\n",
    "(X_train, y_train), (X_test, y_test) = tfk.datasets.mnist.load_data()\n",
    "X = np.concatenate([X_train, X_test], axis=0)\n",
    "y = np.concatenate([y_train, y_test], axis=0)\n",
    "\n",
    "gen_path, private_metadata = train_image_generator(\n",
    "    name=\"mnist_small_gan_2\",\n",
    "    description=\"\"\"\n",
    "    # A Small GAN for MNIST\n",
    "    ...with a slick Markdown description.\n",
    "    \"\"\",\n",
    "    X=X,\n",
    "    y=y,\n",
    "    epochs=1,\n",
    "    classifier_epochs=1,\n",
    "    batch_size=64,\n",
    "    image_size=32,\n",
    "    model_size=\"small\",\n",
    "    task=\"classification\",\n",
    "    sub_task=\"Handwritten digit classification\",\n",
    "    data_description=\"A balanced grayscale image dataset containing 10 different classes\",\n",
    "    dataset_name=\"MNIST\",\n",
    "    verbose=True,\n",
    ")"
   ]
  },
  {
   "cell_type": "code",
   "execution_count": 16,
   "metadata": {},
   "outputs": [
    {
     "name": "stderr",
     "output_type": "stream",
     "text": [
      "[2023-04-06 13:49:58,843][INFO] Generator uploaded as mnist_small_gan_2\n"
     ]
    },
    {
     "data": {
      "text/plain": [
       "Generator(name='mnist_small_gan_2', description='\\n    # A Small GAN for MNIST\\n    ...with a slick Markdown description.\\n    ', dataset_name='MNIST', dataset_description='A balanced grayscale image dataset containing 10 different classes', format='image', image_size=32, conditioned=True, task='classification', num_classes=10, model_size='small', generator_epochs=1, generator_batch_size=64, classifier_epochs=1, classifier_batch_size=64, discriminator_rounds=3, generator_input_shape=74, classifier_gen_best_accuracy=0.1201428547501564, classifier_real_best_accuracy=0.8417142629623413, ssim=0.2852911651134491, avg_ssim=0.25286364555358887, owner='alberto')"
      ]
     },
     "execution_count": 16,
     "metadata": {},
     "output_type": "execute_result"
    }
   ],
   "source": [
    "from sgde_client.exchange import upload_generator\n",
    "\n",
    "upload_generator(gen_path, private_metadata)"
   ]
  }
 ]
}
