{
 "cells": [
  {
   "cell_type": "markdown",
   "id": "f54e2682",
   "metadata": {},
   "source": [
    "# SGDE Tutorial\n",
    "\n",
    "The Secure Generative Data Exchange (SGDE) is a Python application that allows users to train, upload and download generative models to and from a server.\n",
    "Generative models allow the generation of synthetic data that is statistically similar to the original data, preserving individuals' privacy.\n",
    "Though the SGDE Client, users can register to the SGDE API by providing a unique username, email, and password and upload their own models.\n",
    "Then, they can download models from the server and use them to generate synthetic data in a user-friendly way.\n",
    "\n",
    "The SGDE API is built on top of FastAPI and uses SQLAlchemy to manage the database. Objects are exchanged using Pydantic models.\n",
    "The SGDE Client relies on TensorFlow to train generative models and on the SGDE API to upload and download them.\n",
    "\n",
    "For more information about SGDE, please refer to the [SGDE Paper](https://arxiv.org/abs/2109.12062).\n",
    "\n",
    "SGDE is part of the [AI-SPRINT](https://www.ai-sprint-project.eu/) project, where it provides an alternative to federated learning as a framework to train ML models on edge-stored, sensitive data.\n"
   ]
  },
  {
   "cell_type": "markdown",
   "id": "3ae33e94",
   "metadata": {},
   "source": [
    "## Imports \n",
    "\n",
    "In this cell, we will import the necessary libraries to load and process the client-side data."
   ]
  },
  {
   "cell_type": "code",
   "execution_count": 1,
   "id": "e90ffc37",
   "metadata": {},
   "outputs": [
    {
     "data": {
      "text/html": [
       "<style>.container { width:95% !important; }</style>"
      ],
      "text/plain": [
       "<IPython.core.display.HTML object>"
      ]
     },
     "metadata": {},
     "output_type": "display_data"
    },
    {
     "name": "stdout",
     "output_type": "stream",
     "text": [
      "2.12.0\n"
     ]
    }
   ],
   "source": [
    "seed = 42\n",
    "\n",
    "import os\n",
    "os.environ['TF_CPP_MIN_LOG_LEVEL'] = '3'\n",
    "os.environ['PYTHONHASHSEED'] = str(seed)\n",
    "os.environ['MPLCONFIGDIR'] = os.getcwd()+'/configs/'\n",
    "\n",
    "import warnings\n",
    "warnings.simplefilter(action='ignore', category=FutureWarning)\n",
    "warnings.simplefilter(action='ignore', category=Warning)\n",
    "\n",
    "from IPython.core.display import display, HTML\n",
    "display(HTML(\"<style>.container { width:95% !important; }</style>\"))\n",
    "\n",
    "import numpy as np\n",
    "np.random.seed(seed)\n",
    "\n",
    "import logging\n",
    "import tensorflow as tf\n",
    "tf.autograph.set_verbosity(0)\n",
    "tf.get_logger().setLevel(logging.ERROR)\n",
    "tf.compat.v1.logging.set_verbosity(tf.compat.v1.logging.ERROR)\n",
    "tf.random.set_seed(seed)\n",
    "tf.compat.v1.set_random_seed(seed)\n",
    "\n",
    "import random\n",
    "random.seed(seed)\n",
    "\n",
    "from sklearn.model_selection import train_test_split\n",
    "\n",
    "import matplotlib.pyplot as plt\n",
    "%matplotlib inline\n",
    "\n",
    "gpus = tf.config.experimental.list_physical_devices('GPU')\n",
    "for gpu in gpus:\n",
    "    tf.config.experimental.set_memory_growth(gpu, True)\n",
    "tfk = tf.keras\n",
    "tfkl = tf.keras.layers\n",
    "print(tf.__version__)"
   ]
  },
  {
   "cell_type": "code",
   "execution_count": 2,
   "id": "20300e6d",
   "metadata": {},
   "outputs": [],
   "source": [
    "# Load the MNIST dataset\n",
    "\n",
    "dataset = 'mnist'\n",
    "\n",
    "if dataset == 'fashion_mnist':\n",
    "    (X_train, y_train), (X_test, y_test) = tfk.datasets.fashion_mnist.load_data()\n",
    "    X = np.concatenate([X_train, X_test],axis=0).astype('float32')\n",
    "    padding = ((0, 0), (2, 2), (2, 2))\n",
    "    X = np.expand_dims(np.pad(X, padding, mode='constant'),axis=-1)\n",
    "    y = tfk.utils.to_categorical(np.concatenate([y_train, y_test],axis=0))\n",
    "    task = 'classification'\n",
    "    data_structure = 'image'\n",
    "    dataset_name = 'FASHION MNIST'\n",
    "    batch_size = 256\n",
    "    \n",
    "elif dataset == 'cifar10':\n",
    "    (X_train, y_train), (X_test, y_test) = tfk.datasets.cifar10.load_data()\n",
    "    X = np.concatenate([X_train, X_test],axis=0).astype('float32')\n",
    "    y = tfk.utils.to_categorical(np.concatenate([y_train, y_test],axis=0))\n",
    "    task = 'classification'\n",
    "    data_structure = 'image'\n",
    "    dataset_name = 'CIFAR10'\n",
    "    batch_size = 256\n",
    "    \n",
    "elif dataset == 'cifar100':\n",
    "    (X_train, y_train), (X_test, y_test) = tfk.datasets.cifar100.load_data()\n",
    "    X = np.concatenate([X_train, X_test],axis=0).astype('float32')\n",
    "    y = tfk.utils.to_categorical(np.concatenate([y_train, y_test],axis=0))\n",
    "    task = 'classification'\n",
    "    data_structure = 'image'\n",
    "    dataset_name = 'CIFAR100'\n",
    "    batch_size = 256\n",
    "    \n",
    "elif dataset == 'mnist':\n",
    "    (X_train, y_train), (X_test, y_test) = tfk.datasets.mnist.load_data()\n",
    "    X = np.concatenate([X_train, X_test],axis=0).astype('float32')\n",
    "    padding = ((0, 0), (2, 2), (2, 2))\n",
    "    X = np.expand_dims(np.pad(X, padding, mode='constant'),axis=-1)\n",
    "    y = tfk.utils.to_categorical(np.concatenate([y_train, y_test],axis=0))\n",
    "    task = 'classification'\n",
    "    data_structure = 'image'\n",
    "    dataset_name = 'MNIST'\n",
    "    batch_size = 256\n",
    "    \n",
    "else:\n",
    "    print(\"Dataset not found.\")"
   ]
  },
  {
   "cell_type": "code",
   "execution_count": 3,
   "id": "5dcd6228",
   "metadata": {},
   "outputs": [
    {
     "name": "stdout",
     "output_type": "stream",
     "text": [
      "Input shape: (32, 32, 1)\n",
      "Output shape: (10,)\n"
     ]
    }
   ],
   "source": [
    "# Preprocess data\n",
    "\n",
    "temp_X = X\n",
    "temp_y = y\n",
    "      \n",
    "temp_X = (temp_X/255).astype('float32')\n",
    "\n",
    "callbacks = [\n",
    "tfk.callbacks.EarlyStopping(monitor='val_accuracy', patience=15, restore_best_weights=True, mode='max'),\n",
    "tfk.callbacks.ReduceLROnPlateau(monitor=\"val_accuracy\", factor=0.1, patience=10, min_lr=1e-5, mode='max')\n",
    "]\n",
    "X_train, X_test, y_train, y_test = train_test_split(temp_X, temp_y, random_state=seed, test_size=.1, stratify=np.argmax(temp_y,axis=1))\n",
    "\n",
    "input_shape = X_train.shape[1:]\n",
    "output_shape = y_train.shape[1:]\n",
    "\n",
    "epochs = 200\n",
    "classifier_epochs = 200\n",
    "\n",
    "print(f'Input shape: {input_shape}')\n",
    "print(f'Output shape: {output_shape}')"
   ]
  },
  {
   "cell_type": "markdown",
   "id": "de6001a7",
   "metadata": {},
   "source": [
    "## Train a new generator\n",
    "\n",
    "In this cell, we will use the `train_generator` function to build a new data generator from MNIST data."
   ]
  },
  {
   "cell_type": "code",
   "execution_count": 4,
   "id": "55acc4e4",
   "metadata": {},
   "outputs": [
    {
     "name": "stdout",
     "output_type": "stream",
     "text": [
      "Metadata extraction started...\n",
      "Metadata extraction completed!\n",
      "Data pre-processing started...\n",
      "Data pre-processing completed!\n",
      "Classifier training on real data started...\n",
      "247/247 - 22s - loss: 0.2069 - accuracy: 0.9342 - val_loss: 0.6801 - val_accuracy: 0.8234 - lr: 0.0010 - 22s/epoch - 88ms/step\n"
     ]
    },
    {
     "name": "stderr",
     "output_type": "stream",
     "text": [
      "WARNING:absl:Found untraced functions such as _jit_compiled_convolution_op, _jit_compiled_convolution_op, _jit_compiled_convolution_op, _jit_compiled_convolution_op, _jit_compiled_convolution_op while saving (showing 5 of 10). These functions will not be directly callable after loading.\n"
     ]
    },
    {
     "name": "stdout",
     "output_type": "stream",
     "text": [
      "Classifier training on real data completed!\n",
      "Generator building started...\n",
      "Generator building completed!\n",
      "Generator training started...\n",
      "EPOCH 1/1\n"
     ]
    },
    {
     "data": {
      "image/png": "[encoded data removed]",
      "text/plain": [
       "<Figure size 2000x2000 with 10 Axes>"
      ]
     },
     "metadata": {},
     "output_type": "display_data"
    },
    {
     "name": "stdout",
     "output_type": "stream",
     "text": [
      "247/247 - 147s - d_loss: 0.3375 - g_loss: 2.6117 - 147s/epoch - 596ms/step\n",
      "CAS: 0.1344 (Real Accuracy: 0.8234)\n",
      "\n"
     ]
    },
    {
     "name": "stderr",
     "output_type": "stream",
     "text": [
      "WARNING:absl:Found untraced functions such as _jit_compiled_convolution_op, _jit_compiled_convolution_op, _jit_compiled_convolution_op, _jit_compiled_convolution_op, _jit_compiled_convolution_op while saving (showing 5 of 7). These functions will not be directly callable after loading.\n",
      "WARNING:absl:Found untraced functions such as _jit_compiled_convolution_op, _jit_compiled_convolution_op, _jit_compiled_convolution_op, _jit_compiled_convolution_op, _jit_compiled_convolution_op while saving (showing 5 of 10). These functions will not be directly callable after loading.\n"
     ]
    },
    {
     "name": "stdout",
     "output_type": "stream",
     "text": [
      "Generator training completed!\n",
      "Best threshold computation started...\n",
      "Best threshold computation completed!\n",
      "Best standard deviation computation started...\n",
      "Best standard deviation computation completed!\n"
     ]
    }
   ],
   "source": [
    "from sgde_client.models.training import train_generator\n",
    "\n",
    "\n",
    "metadata = train_generator(\n",
    "    X=X,\n",
    "    y=y,\n",
    "    gan_epochs=1,\n",
    "    model_epochs=1,\n",
    "    sleep_epochs=1,\n",
    "    batch_size=batch_size,\n",
    "    data_structure=data_structure,\n",
    "    task=task,\n",
    "    verbose=1,\n",
    "    name='my_gan',\n",
    "    dataset_name='MNIST'\n",
    ")"
   ]
  },
  {
   "cell_type": "markdown",
   "id": "e9c5215e",
   "metadata": {},
   "source": [
    "## Generate data\n",
    "\n",
    "Next, we generate some synthetic samples using the newly trained generator."
   ]
  },
  {
   "cell_type": "code",
   "execution_count": 5,
   "id": "fe75156d",
   "metadata": {},
   "outputs": [
    {
     "name": "stdout",
     "output_type": "stream",
     "text": [
      "(100, 32, 32, 1)\n"
     ]
    },
    {
     "data": {
      "image/png": "[encoded data removed]",
      "text/plain": [
       "<Figure size 2000x2000 with 10 Axes>"
      ]
     },
     "metadata": {},
     "output_type": "display_data"
    }
   ],
   "source": [
    "from sgde_client.models.inference import generate_samples_onnx\n",
    "\n",
    "samples, labels = generate_samples_onnx(100, metadata, filter_model=False)\n",
    "\n",
    "print(samples.shape)\n",
    "\n",
    "fig, axes = plt.subplots(1, 10, figsize=(20,20))\n",
    "for i in range(10):\n",
    "    ax = axes[i%10]\n",
    "    ax.imshow((np.squeeze(samples[i])+1)/2)\n",
    "plt.tight_layout()\n",
    "plt.show()"
   ]
  },
  {
   "cell_type": "code",
   "execution_count": null,
   "id": "d8cb59b0",
   "metadata": {
    "pycharm": {
     "is_executing": true
    }
   },
   "outputs": [],
   "source": [
    "from sgde_client.models.inference import generate_samples_onnx\n",
    "\n",
    "samples, labels = generate_samples_onnx(5, metadata, filter_model=True)\n",
    "\n",
    "print(samples.shape)\n",
    "\n",
    "fig, axes = plt.subplots(1, 10, figsize=(20,20))\n",
    "for i in range(10):\n",
    "    ax = axes[i%10]\n",
    "    ax.imshow((np.squeeze(samples[i])+1)/2)\n",
    "plt.tight_layout()\n",
    "plt.show()"
   ]
  },
  {
   "cell_type": "markdown",
   "id": "68fd0b72",
   "metadata": {},
   "source": [
    "## Interact with the SGDE API\n",
    "\n",
    "Here, we will login to the SGDE API and exchange generator files."
   ]
  },
  {
   "cell_type": "code",
   "execution_count": 8,
   "id": "4b645f88",
   "metadata": {},
   "outputs": [
    {
     "name": "stdout",
     "output_type": "stream",
     "text": [
      "Insert username: foobar\n",
      "Insert email: foobar@email.com\n",
      "Insert password: ········\n",
      "Confirm password: ········\n"
     ]
    },
    {
     "name": "stderr",
     "output_type": "stream",
     "text": [
      "[2023-10-06 21:09:40,077][INFO] Registered as foobar (foobar@email.com)\n",
      "INFO:sgde_logger:Registered as foobar (foobar@email.com)\n"
     ]
    },
    {
     "data": {
      "text/plain": [
       "User(username='foobar', email='foobar@email.com')"
      ]
     },
     "execution_count": 8,
     "metadata": {},
     "output_type": "execute_result"
    }
   ],
   "source": [
    "from sgde_client.auth import register\n",
    "\n",
    "register()"
   ]
  },
  {
   "cell_type": "code",
   "execution_count": 9,
   "id": "fc745c18",
   "metadata": {},
   "outputs": [
    {
     "name": "stdout",
     "output_type": "stream",
     "text": [
      "Insert username: foobar\n",
      "Insert password: ········\n"
     ]
    },
    {
     "name": "stderr",
     "output_type": "stream",
     "text": [
      "[2023-10-06 21:09:46,821][INFO] Successfully logged in\n",
      "INFO:sgde_logger:Successfully logged in\n"
     ]
    }
   ],
   "source": [
    "from sgde_client.auth import login\n",
    "\n",
    "login()"
   ]
  },
  {
   "cell_type": "code",
   "execution_count": 10,
   "id": "791f0db8",
   "metadata": {},
   "outputs": [
    {
     "name": "stderr",
     "output_type": "stream",
     "text": [
      "[2023-10-06 21:09:47,736][INFO] Logged in as foobar (foobar@email.com)\n",
      "INFO:sgde_logger:Logged in as foobar (foobar@email.com)\n"
     ]
    },
    {
     "data": {
      "text/plain": [
       "User(username='foobar', email='foobar@email.com')"
      ]
     },
     "execution_count": 10,
     "metadata": {},
     "output_type": "execute_result"
    }
   ],
   "source": [
    "from sgde_client.auth import whoami\n",
    "\n",
    "whoami()"
   ]
  },
  {
   "cell_type": "code",
   "execution_count": 17,
   "id": "955dc526",
   "metadata": {},
   "outputs": [],
   "source": [
    "for k, v in metadata.items():\n",
    "    if type(v) == tuple:\n",
    "        metadata[k] = list(metadata[k])"
   ]
  },
  {
   "cell_type": "code",
   "execution_count": 19,
   "id": "d90d54a7",
   "metadata": {},
   "outputs": [
    {
     "ename": "ValidationError",
     "evalue": "1 validation error for GeneratorExtended\n__root__\n  Items in the list of dataset_min are not of allowed type. (type=value_error)",
     "output_type": "error",
     "traceback": [
      "\u001B[0;31m---------------------------------------------------------------------------\u001B[0m",
      "\u001B[0;31mValidationError\u001B[0m                           Traceback (most recent call last)",
      "Cell \u001B[0;32mIn[19], line 3\u001B[0m\n\u001B[1;32m      1\u001B[0m \u001B[38;5;28;01mfrom\u001B[39;00m \u001B[38;5;21;01msgde_client\u001B[39;00m\u001B[38;5;21;01m.\u001B[39;00m\u001B[38;5;21;01mexchange\u001B[39;00m \u001B[38;5;28;01mimport\u001B[39;00m upload_generator\n\u001B[0;32m----> 3\u001B[0m \u001B[43mupload_generator\u001B[49m\u001B[43m(\u001B[49m\u001B[43mmetadata\u001B[49m\u001B[43m)\u001B[49m\n",
      "File \u001B[0;32m~src/sgde_client/exchange.py:100\u001B[0m, in \u001B[0;36mupload_generator\u001B[0;34m(metadata)\u001B[0m\n\u001B[1;32m     98\u001B[0m gen_path \u001B[38;5;241m=\u001B[39m metadata[\u001B[38;5;124m\"\u001B[39m\u001B[38;5;124mgenerator_path\u001B[39m\u001B[38;5;124m\"\u001B[39m]\n\u001B[1;32m     99\u001B[0m cls_path \u001B[38;5;241m=\u001B[39m metadata[\u001B[38;5;124m\"\u001B[39m\u001B[38;5;124mreal_predictor_path\u001B[39m\u001B[38;5;124m\"\u001B[39m] \u001B[38;5;28;01mif\u001B[39;00m \u001B[38;5;124m\"\u001B[39m\u001B[38;5;124mreal_predictor_path\u001B[39m\u001B[38;5;124m\"\u001B[39m \u001B[38;5;129;01min\u001B[39;00m metadata \u001B[38;5;28;01melse\u001B[39;00m \u001B[38;5;28;01mNone\u001B[39;00m\n\u001B[0;32m--> 100\u001B[0m response \u001B[38;5;241m=\u001B[39m \u001B[43mupload_generator_request\u001B[49m\u001B[43m(\u001B[49m\u001B[43mmetadata\u001B[49m\u001B[38;5;241;43m=\u001B[39;49m\u001B[43mmetadata\u001B[49m\u001B[43m,\u001B[49m\u001B[43m \u001B[49m\u001B[43mgen_path\u001B[49m\u001B[38;5;241;43m=\u001B[39;49m\u001B[43mgen_path\u001B[49m\u001B[43m,\u001B[49m\u001B[43m \u001B[49m\u001B[43mcls_path\u001B[49m\u001B[38;5;241;43m=\u001B[39;49m\u001B[43mcls_path\u001B[49m\u001B[43m)\u001B[49m\n\u001B[1;32m    101\u001B[0m generator \u001B[38;5;241m=\u001B[39m Generator(\u001B[38;5;241m*\u001B[39m\u001B[38;5;241m*\u001B[39mresponse\u001B[38;5;241m.\u001B[39mjson())\n\u001B[1;32m    102\u001B[0m logger\u001B[38;5;241m.\u001B[39minfo(\u001B[38;5;124mf\u001B[39m\u001B[38;5;124m\"\u001B[39m\u001B[38;5;124mGenerator uploaded as \u001B[39m\u001B[38;5;132;01m{\u001B[39;00mresponse\u001B[38;5;241m.\u001B[39mjson()[\u001B[38;5;124m'\u001B[39m\u001B[38;5;124mname\u001B[39m\u001B[38;5;124m'\u001B[39m]\u001B[38;5;132;01m}\u001B[39;00m\u001B[38;5;124m\"\u001B[39m)\n",
      "File \u001B[0;32m~src/sgde_client/utils.py:32\u001B[0m, in \u001B[0;36msend_request.<locals>.decorator_fn.<locals>.wrapped_fn\u001B[0;34m(*args, **kwargs)\u001B[0m\n\u001B[1;32m     29\u001B[0m \u001B[38;5;28;01melse\u001B[39;00m:\n\u001B[1;32m     30\u001B[0m     \u001B[38;5;28;01mraise\u001B[39;00m \u001B[38;5;167;01mValueError\u001B[39;00m(\u001B[38;5;124mf\u001B[39m\u001B[38;5;124m\"\u001B[39m\u001B[38;5;124mMethod must be either \u001B[39m\u001B[38;5;124m'\u001B[39m\u001B[38;5;124mGET\u001B[39m\u001B[38;5;124m'\u001B[39m\u001B[38;5;124m or \u001B[39m\u001B[38;5;124m'\u001B[39m\u001B[38;5;124mPOST\u001B[39m\u001B[38;5;124m'\u001B[39m\u001B[38;5;124m, not \u001B[39m\u001B[38;5;132;01m{\u001B[39;00mmethod\u001B[38;5;132;01m}\u001B[39;00m\u001B[38;5;124m\"\u001B[39m)\n\u001B[0;32m---> 32\u001B[0m uri, payload \u001B[38;5;241m=\u001B[39m \u001B[43mfn\u001B[49m\u001B[43m(\u001B[49m\u001B[38;5;241;43m*\u001B[39;49m\u001B[43margs\u001B[49m\u001B[43m,\u001B[49m\u001B[43m \u001B[49m\u001B[38;5;241;43m*\u001B[39;49m\u001B[38;5;241;43m*\u001B[39;49m\u001B[43mkwargs\u001B[49m\u001B[43m)\u001B[49m\n\u001B[1;32m     34\u001B[0m \u001B[38;5;28;01mif\u001B[39;00m authenticate:\n\u001B[1;32m     35\u001B[0m     \u001B[38;5;28;01mif\u001B[39;00m \u001B[38;5;124m\"\u001B[39m\u001B[38;5;124mACCESS_TOKEN\u001B[39m\u001B[38;5;124m\"\u001B[39m \u001B[38;5;129;01mnot\u001B[39;00m \u001B[38;5;129;01min\u001B[39;00m os\u001B[38;5;241m.\u001B[39menviron:\n",
      "File \u001B[0;32m~src/sgde_client/exchange.py:86\u001B[0m, in \u001B[0;36mupload_generator_request\u001B[0;34m(metadata, gen_path, cls_path)\u001B[0m\n\u001B[1;32m     84\u001B[0m     gen_onnx_file \u001B[38;5;241m=\u001B[39m f\u001B[38;5;241m.\u001B[39mread()\n\u001B[1;32m     85\u001B[0m \u001B[38;5;28;01mif\u001B[39;00m cls_path:\n\u001B[0;32m---> 86\u001B[0m     \u001B[38;5;28;01mif\u001B[39;00m os\u001B[38;5;241m.\u001B[39mpath\u001B[38;5;241m.\u001B[39misdir(cls_path):\n\u001B[1;32m     87\u001B[0m         cls_path \u001B[38;5;241m=\u001B[39m os\u001B[38;5;241m.\u001B[39mpath\u001B[38;5;241m.\u001B[39mjoin(cls_path, \u001B[38;5;124m\"\u001B[39m\u001B[38;5;124mmodel.onnx\u001B[39m\u001B[38;5;124m\"\u001B[39m)\n\u001B[1;32m     88\u001B[0m     \u001B[38;5;28;01mwith\u001B[39;00m \u001B[38;5;28mopen\u001B[39m(cls_path, \u001B[38;5;124m\"\u001B[39m\u001B[38;5;124mrb\u001B[39m\u001B[38;5;124m\"\u001B[39m) \u001B[38;5;28;01mas\u001B[39;00m f:\n",
      "File \u001B[0;32m~usr/local/lib/python3.8/dist-packages/pydantic/main.py:341\u001B[0m, in \u001B[0;36mpydantic.main.BaseModel.__init__\u001B[0;34m()\u001B[0m\n",
      "\u001B[0;31mValidationError\u001B[0m: 1 validation error for GeneratorExtended\n__root__\n  Items in the list of dataset_min are not of allowed type. (type=value_error)"
     ]
    }
   ],
   "source": [
    "from sgde_client.exchange import upload_generator\n",
    "\n",
    "upload_generator(metadata)"
   ]
  },
  {
   "cell_type": "code",
   "execution_count": 1,
   "id": "1127268c",
   "metadata": {},
   "outputs": [
    {
     "data": {
      "text/html": [
       "<div>\n",
       "<style scoped>\n",
       "    .dataframe tbody tr th:only-of-type {\n",
       "        vertical-align: middle;\n",
       "    }\n",
       "\n",
       "    .dataframe tbody tr th {\n",
       "        vertical-align: top;\n",
       "    }\n",
       "\n",
       "    .dataframe thead th {\n",
       "        text-align: right;\n",
       "    }\n",
       "</style>\n",
       "<table border=\"1\" class=\"dataframe\">\n",
       "  <thead>\n",
       "    <tr style=\"text-align: right;\">\n",
       "      <th></th>\n",
       "    </tr>\n",
       "  </thead>\n",
       "  <tbody>\n",
       "  </tbody>\n",
       "</table>\n",
       "</div>"
      ],
      "text/plain": [
       "Empty DataFrame\n",
       "Columns: []\n",
       "Index: []"
      ]
     },
     "execution_count": 1,
     "metadata": {},
     "output_type": "execute_result"
    }
   ],
   "source": [
    "from sgde_client.exchange import get_generators\n",
    "\n",
    "get_generators()"
   ]
  },
  {
   "cell_type": "code",
   "execution_count": 2,
   "id": "cad42d3b",
   "metadata": {},
   "outputs": [
    {
     "ename": "TypeError",
     "evalue": "download_generator() missing 1 required positional argument: 'generator_name'",
     "output_type": "error",
     "traceback": [
      "\u001B[0;31m---------------------------------------------------------------------------\u001B[0m",
      "\u001B[0;31mTypeError\u001B[0m                                 Traceback (most recent call last)",
      "Cell \u001B[0;32mIn[2], line 3\u001B[0m\n\u001B[1;32m      1\u001B[0m \u001B[38;5;28;01mfrom\u001B[39;00m \u001B[38;5;21;01msgde_client\u001B[39;00m\u001B[38;5;21;01m.\u001B[39;00m\u001B[38;5;21;01mexchange\u001B[39;00m \u001B[38;5;28;01mimport\u001B[39;00m download_generator\n\u001B[0;32m----> 3\u001B[0m downloaded_metadata \u001B[38;5;241m=\u001B[39m \u001B[43mdownload_generator\u001B[49m\u001B[43m(\u001B[49m\u001B[43m)\u001B[49m\n",
      "\u001B[0;31mTypeError\u001B[0m: download_generator() missing 1 required positional argument: 'generator_name'"
     ]
    }
   ],
   "source": [
    "from sgde_client.exchange import download_generator\n",
    "\n",
    "downloaded_metadata = download_generator(\"my_gan\")"
   ]
  },
  {
   "cell_type": "code",
   "execution_count": null,
   "id": "278361be",
   "metadata": {},
   "outputs": [],
   "source": [
    "samples, labels = generate_samples_onnx(5, downloaded_metadata)\n",
    "\n",
    "print(samples.shape)"
   ]
  }
 ],
 "metadata": {
  "kernelspec": {
   "display_name": "Python 3 (ipykernel)",
   "language": "python",
   "name": "python3"
  },
  "language_info": {
   "codemirror_mode": {
    "name": "ipython",
    "version": 3
   },
   "file_extension": ".py",
   "mimetype": "text/x-python",
   "name": "python",
   "nbconvert_exporter": "python",
   "pygments_lexer": "ipython3",
   "version": "3.8.10"
  }
 },
 "nbformat": 4,
 "nbformat_minor": 5
}
